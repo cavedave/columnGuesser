{
 "cells": [
  {
   "cell_type": "markdown",
   "metadata": {},
   "source": [
    "## Guess column names"
   ]
  },
  {
   "cell_type": "markdown",
   "metadata": {},
   "source": [
    "Problem is to recognise column names. Lets start by cheating. Generate dataset and guess column names on that."
   ]
  },
  {
   "cell_type": "markdown",
   "metadata": {},
   "source": [
    "## Generate Fake data"
   ]
  },
  {
   "cell_type": "markdown",
   "metadata": {},
   "source": [
    "Test faking code is working"
   ]
  },
  {
   "cell_type": "code",
   "execution_count": 2,
   "metadata": {},
   "outputs": [
    {
     "data": {
      "text/plain": [
       "'Today project attorney help any other position scene. Half participant instead without medical around appear.\\nDebate bar gas enough about ever. I force back all size speech.'"
      ]
     },
     "execution_count": 2,
     "metadata": {},
     "output_type": "execute_result"
    }
   ],
   "source": [
    "from faker import Faker\n",
    "fake = Faker()\n",
    "Faker.seed(4321)#make a sseed for reproducability\n",
    "\n",
    "\n",
    "fake.name()\n",
    "# 'Lucy Cechtelar'\n",
    "\n",
    "fake.address()\n",
    "# '426 Jordy Lodge\n",
    "#  Cartwrightshire, SC 88120-6700'\n",
    "\n",
    "fake.text()\n",
    "# 'Sint velit eveniet. Rerum atque repellat voluptatem quia rerum. Numquam excepturi\n",
    "#  beatae sint laudantium consequatur. Magni occaecati itaque sint et sit tempore. Nesciunt\n",
    "#  amet quidem. Iusto deleniti cum autem ad quia aperiam.\n",
    "#  A consectetur quos aliquam. In iste aliquid et aut similique suscipit. Consequatur qui\n",
    "#  quaerat iste minus hic expedita. Consequuntur error magni et laboriosam. Aut aspernatur\n",
    "#  voluptatem sit aliquam. Dolores voluptatum est.\n",
    "#  Aut molestias et maxime. Fugit autem facilis quos vero. Eius quibusdam possimus est.\n",
    "#  Ea quaerat et quisquam. Deleniti sunt quam. Adipisci consequatur id in occaecati.\n",
    "#  Et sint et. Ut ducimus quod nemo ab voluptatum.'"
   ]
  },
  {
   "cell_type": "code",
   "execution_count": 3,
   "metadata": {},
   "outputs": [
    {
     "data": {
      "text/plain": [
       "'Anna Patterson'"
      ]
     },
     "execution_count": 3,
     "metadata": {},
     "output_type": "execute_result"
    }
   ],
   "source": [
    "fake.name()"
   ]
  },
  {
   "cell_type": "code",
   "execution_count": 54,
   "metadata": {},
   "outputs": [],
   "source": [
    "#imports\n",
    "from random import randint\n",
    "import csv\n",
    "import notebook as nb\n",
    "import os\n",
    "import pandas as pd\n",
    "import numpy as np\n",
    "import matplotlib.pyplot as plt"
   ]
  },
  {
   "cell_type": "code",
   "execution_count": 11,
   "metadata": {},
   "outputs": [],
   "source": [
    "labeled = pd.DataFrame(columns=['name', 'address','text','boo','date','phone','ssn'])\n",
    "\n",
    "for _ in range(100):\n",
    "    name=fake.name()\n",
    "    address=fake.address()\n",
    "    text= fake.text()\n",
    "    boo= randint(0, 1)\n",
    "    job=fake.job()\n",
    "    date = fake.date_time()  \n",
    "    phone=fake.phone_number()\n",
    "    ssn=fake.ssn()\n",
    "    company=fake.company()\n",
    "    #ip=fake.internet()\n",
    "    labeled = labeled.append({'name' : name ,'address':address,'text':text,'boo':boo,'date':date,'phone':phone,'ssn':ssn} , ignore_index=True)\n",
    "    \n"
   ]
  },
  {
   "cell_type": "code",
   "execution_count": 12,
   "metadata": {},
   "outputs": [
    {
     "data": {
      "text/html": [
       "<div>\n",
       "<style scoped>\n",
       "    .dataframe tbody tr th:only-of-type {\n",
       "        vertical-align: middle;\n",
       "    }\n",
       "\n",
       "    .dataframe tbody tr th {\n",
       "        vertical-align: top;\n",
       "    }\n",
       "\n",
       "    .dataframe thead th {\n",
       "        text-align: right;\n",
       "    }\n",
       "</style>\n",
       "<table border=\"1\" class=\"dataframe\">\n",
       "  <thead>\n",
       "    <tr style=\"text-align: right;\">\n",
       "      <th></th>\n",
       "      <th>name</th>\n",
       "      <th>address</th>\n",
       "      <th>text</th>\n",
       "      <th>boo</th>\n",
       "      <th>date</th>\n",
       "      <th>phone</th>\n",
       "      <th>ssn</th>\n",
       "    </tr>\n",
       "  </thead>\n",
       "  <tbody>\n",
       "    <tr>\n",
       "      <th>0</th>\n",
       "      <td>Amanda Myers</td>\n",
       "      <td>64019 Mora Flat Apt. 929\\nCainbury, LA 17612</td>\n",
       "      <td>Listen water human as. Economy Republican laug...</td>\n",
       "      <td>0</td>\n",
       "      <td>1975-07-29 19:42:57</td>\n",
       "      <td>625.075.9498</td>\n",
       "      <td>388-84-5677</td>\n",
       "    </tr>\n",
       "    <tr>\n",
       "      <th>1</th>\n",
       "      <td>Seth Carey</td>\n",
       "      <td>592 Ortega Dale\\nSmithview, WI 13157</td>\n",
       "      <td>Paper into live air senior race computer TV. S...</td>\n",
       "      <td>0</td>\n",
       "      <td>1995-08-29 19:49:27</td>\n",
       "      <td>(457)263-1060x41385</td>\n",
       "      <td>368-13-2210</td>\n",
       "    </tr>\n",
       "    <tr>\n",
       "      <th>2</th>\n",
       "      <td>Antonio Green</td>\n",
       "      <td>84885 Kenneth Inlet Suite 824\\nBarryside, CT 2...</td>\n",
       "      <td>Many visit water discover that expert rich. Pa...</td>\n",
       "      <td>1</td>\n",
       "      <td>1980-06-16 19:10:06</td>\n",
       "      <td>0034734391</td>\n",
       "      <td>402-79-5188</td>\n",
       "    </tr>\n",
       "    <tr>\n",
       "      <th>3</th>\n",
       "      <td>Patrick Mccall</td>\n",
       "      <td>926 Johnson Estates\\nLake Christinaville, AZ 8...</td>\n",
       "      <td>Main of somebody whether discuss west arm base...</td>\n",
       "      <td>0</td>\n",
       "      <td>2004-03-23 14:41:13</td>\n",
       "      <td>358-619-6354</td>\n",
       "      <td>586-83-2927</td>\n",
       "    </tr>\n",
       "    <tr>\n",
       "      <th>4</th>\n",
       "      <td>Jessica Hess</td>\n",
       "      <td>20536 Lori Mountains Suite 166\\nSouth Anthonys...</td>\n",
       "      <td>For campaign character affect third main respo...</td>\n",
       "      <td>0</td>\n",
       "      <td>2020-03-04 07:11:15</td>\n",
       "      <td>712-023-9750x58728</td>\n",
       "      <td>465-37-5493</td>\n",
       "    </tr>\n",
       "  </tbody>\n",
       "</table>\n",
       "</div>"
      ],
      "text/plain": [
       "             name                                            address  \\\n",
       "0    Amanda Myers       64019 Mora Flat Apt. 929\\nCainbury, LA 17612   \n",
       "1      Seth Carey               592 Ortega Dale\\nSmithview, WI 13157   \n",
       "2   Antonio Green  84885 Kenneth Inlet Suite 824\\nBarryside, CT 2...   \n",
       "3  Patrick Mccall  926 Johnson Estates\\nLake Christinaville, AZ 8...   \n",
       "4    Jessica Hess  20536 Lori Mountains Suite 166\\nSouth Anthonys...   \n",
       "\n",
       "                                                text boo                date  \\\n",
       "0  Listen water human as. Economy Republican laug...   0 1975-07-29 19:42:57   \n",
       "1  Paper into live air senior race computer TV. S...   0 1995-08-29 19:49:27   \n",
       "2  Many visit water discover that expert rich. Pa...   1 1980-06-16 19:10:06   \n",
       "3  Main of somebody whether discuss west arm base...   0 2004-03-23 14:41:13   \n",
       "4  For campaign character affect third main respo...   0 2020-03-04 07:11:15   \n",
       "\n",
       "                 phone          ssn  \n",
       "0         625.075.9498  388-84-5677  \n",
       "1  (457)263-1060x41385  368-13-2210  \n",
       "2           0034734391  402-79-5188  \n",
       "3         358-619-6354  586-83-2927  \n",
       "4   712-023-9750x58728  465-37-5493  "
      ]
     },
     "execution_count": 12,
     "metadata": {},
     "output_type": "execute_result"
    }
   ],
   "source": [
    "#check output looks reasonable\n",
    "labeled.head()"
   ]
  },
  {
   "cell_type": "markdown",
   "metadata": {},
   "source": [
    "## Get spacy loaded "
   ]
  },
  {
   "cell_type": "code",
   "execution_count": 20,
   "metadata": {},
   "outputs": [],
   "source": [
    "import spacy\n",
    "nlp=spacy.load('en')\n",
    "\n",
    "#nlp = spacy.load(\"en_core_web_sm\")"
   ]
  },
  {
   "cell_type": "code",
   "execution_count": 21,
   "metadata": {},
   "outputs": [
    {
     "name": "stdout",
     "output_type": "stream",
     "text": [
      "Apple 0 5 ORG\n",
      "U.K. 27 31 GPE\n",
      "$1 billion 44 54 MONEY\n"
     ]
    }
   ],
   "source": [
    "#check spacy is working\n",
    "nlp=spacy.load('en')\n",
    "\n",
    "#nlp = spacy.load(\"en_core_web_sm\")\n",
    "doc = nlp(\"Apple is looking at buying U.K. startup for $1 billion\")\n",
    "\n",
    "for ent in doc.ents:\n",
    "    print(ent.text, ent.start_char, ent.end_char, ent.label_)"
   ]
  },
  {
   "cell_type": "markdown",
   "metadata": {},
   "source": [
    "## Now see Spacy detects columns correctly"
   ]
  },
  {
   "cell_type": "code",
   "execution_count": 34,
   "metadata": {},
   "outputs": [],
   "source": [
    "#data is in labeled \n",
    "#how many rows in labeled\n",
    "length=len(labeled.index)\n"
   ]
  },
  {
   "cell_type": "code",
   "execution_count": 30,
   "metadata": {},
   "outputs": [
    {
     "data": {
      "text/plain": [
       "'Antonio Green'"
      ]
     },
     "execution_count": 30,
     "metadata": {},
     "output_type": "execute_result"
    }
   ],
   "source": [
    "labeled.iloc[2, 0]"
   ]
  },
  {
   "cell_type": "code",
   "execution_count": 66,
   "metadata": {},
   "outputs": [],
   "source": [
    "#guess first column\n",
    "guesses= pd.DataFrame()\n",
    "\n",
    "i = 1\n",
    "while i < length:\n",
    "    col1 = nlp(labeled.iloc[i, 0])#read in thei row of first column\n",
    "    col2 = nlp(labeled.iloc[i, 1])#read in thei row of first column\n",
    "    i += 1\n",
    "    for ent in col1.ents:#extract entities using spacy\n",
    "        first=ent.label_\n",
    "        #print(ent.label_)  \n",
    "        #new_row={'first':first}\n",
    "      #  guesses = guesses.append(new_row, ignore_index=True)\n",
    "    for ent in col2.ents:#extract entities using spacy\n",
    "        #print(ent.text, ent.start_char, ent.end_char, ent.label_)\n",
    "        second=ent.label_\n",
    "        #print(ent.label_,col2)  \n",
    "        new_row={'first':first,'second':second}\n",
    "        guesses = guesses.append(new_row, ignore_index=True)\n",
    "        "
   ]
  },
  {
   "cell_type": "code",
   "execution_count": 58,
   "metadata": {},
   "outputs": [
    {
     "data": {
      "text/plain": [
       "first\n",
       "PERSON    95\n",
       "dtype: int64"
      ]
     },
     "execution_count": 58,
     "metadata": {},
     "output_type": "execute_result"
    }
   ],
   "source": [
    "\n",
    "guesses.groupby('first').size()"
   ]
  },
  {
   "cell_type": "code",
   "execution_count": 68,
   "metadata": {},
   "outputs": [
    {
     "data": {
      "text/plain": [
       "second\n",
       "CARDINAL    101\n",
       "DATE         41\n",
       "GPE          43\n",
       "ORG          46\n",
       "PERSON       38\n",
       "dtype: int64"
      ]
     },
     "execution_count": 68,
     "metadata": {},
     "output_type": "execute_result"
    }
   ],
   "source": [
    "g = guesses.groupby('second')\n",
    "size = g.size()\n",
    "size[size > 20]"
   ]
  },
  {
   "cell_type": "code",
   "execution_count": null,
   "metadata": {},
   "outputs": [],
   "source": []
  }
 ],
 "metadata": {
  "kernelspec": {
   "display_name": "Python 3",
   "language": "python",
   "name": "python3"
  },
  "language_info": {
   "codemirror_mode": {
    "name": "ipython",
    "version": 3
   },
   "file_extension": ".py",
   "mimetype": "text/x-python",
   "name": "python",
   "nbconvert_exporter": "python",
   "pygments_lexer": "ipython3",
   "version": "3.7.6"
  }
 },
 "nbformat": 4,
 "nbformat_minor": 4
}
