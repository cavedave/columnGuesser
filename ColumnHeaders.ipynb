{
 "cells": [
  {
   "cell_type": "markdown",
   "metadata": {},
   "source": [
    "## Guess column names"
   ]
  },
  {
   "cell_type": "markdown",
   "metadata": {},
   "source": [
    "Problem is to recognise column names. Lets start by cheating. Generate dataset and guess column names on that."
   ]
  },
  {
   "cell_type": "markdown",
   "metadata": {},
   "source": [
    "## Generate Fake data"
   ]
  },
  {
   "cell_type": "markdown",
   "metadata": {},
   "source": [
    "Test faking code is working\n",
    "faker is from https://github.com/joke2k/faker\n"
   ]
  },
  {
   "cell_type": "code",
   "execution_count": 2,
   "metadata": {},
   "outputs": [
    {
     "data": {
      "text/plain": [
       "'Today project attorney help any other position scene. Half participant instead without medical around appear.\\nDebate bar gas enough about ever. I force back all size speech.'"
      ]
     },
     "execution_count": 2,
     "metadata": {},
     "output_type": "execute_result"
    }
   ],
   "source": [
    "from faker import Faker\n",
    "fake = Faker()\n",
    "Faker.seed(4321)#make a sseed for reproducability\n",
    "\n",
    "\n",
    "fake.name()\n",
    "# 'Lucy Cechtelar'\n",
    "\n",
    "fake.address()\n",
    "# '426 Jordy Lodge\n",
    "#  Cartwrightshire, SC 88120-6700'\n",
    "\n",
    "fake.text()\n",
    "# 'Sint velit eveniet. Rerum atque repellat voluptatem quia rerum. Numquam excepturi\n",
    "#  beatae sint laudantium consequatur. Magni occaecati itaque sint et sit tempore. Nesciunt\n",
    "#  amet quidem. Iusto deleniti cum autem ad quia aperiam.\n",
    "#  A consectetur quos aliquam. In iste aliquid et aut similique suscipit. Consequatur qui\n",
    "#  quaerat iste minus hic expedita. Consequuntur error magni et laboriosam. Aut aspernatur\n",
    "#  voluptatem sit aliquam. Dolores voluptatum est.\n",
    "#  Aut molestias et maxime. Fugit autem facilis quos vero. Eius quibusdam possimus est.\n",
    "#  Ea quaerat et quisquam. Deleniti sunt quam. Adipisci consequatur id in occaecati.\n",
    "#  Et sint et. Ut ducimus quod nemo ab voluptatum.'"
   ]
  },
  {
   "cell_type": "code",
   "execution_count": 3,
   "metadata": {},
   "outputs": [
    {
     "data": {
      "text/plain": [
       "'Anna Patterson'"
      ]
     },
     "execution_count": 3,
     "metadata": {},
     "output_type": "execute_result"
    }
   ],
   "source": [
    "fake.name()"
   ]
  },
  {
   "cell_type": "code",
   "execution_count": 54,
   "metadata": {},
   "outputs": [],
   "source": [
    "#imports\n",
    "from random import randint\n",
    "import csv\n",
    "import notebook as nb\n",
    "import os\n",
    "import pandas as pd\n",
    "import numpy as np\n",
    "import matplotlib.pyplot as plt"
   ]
  },
  {
   "cell_type": "code",
   "execution_count": 196,
   "metadata": {},
   "outputs": [],
   "source": [
    "labeled = pd.DataFrame(columns=['name', 'address','text','boo','date','phone','ssn'])\n",
    "\n",
    "for _ in range(100):\n",
    "    name=fake.name()\n",
    "    address=fake.address()\n",
    "    text= fake.text()\n",
    "    boo= randint(0, 1)\n",
    "    job=fake.job()\n",
    "    date = fake.date_time()  \n",
    "    phone=fake.phone_number()\n",
    "    ssn=fake.ssn()\n",
    "    company=fake.company()\n",
    "    #ip=fake.internet()\n",
    "    labeled = labeled.append({'name' : name ,'address':address,'text':text,'boo':boo,'date':date,'phone':phone,'ssn':ssn} , ignore_index=True)\n",
    "    \n"
   ]
  },
  {
   "cell_type": "code",
   "execution_count": 197,
   "metadata": {},
   "outputs": [
    {
     "data": {
      "text/html": [
       "<div>\n",
       "<style scoped>\n",
       "    .dataframe tbody tr th:only-of-type {\n",
       "        vertical-align: middle;\n",
       "    }\n",
       "\n",
       "    .dataframe tbody tr th {\n",
       "        vertical-align: top;\n",
       "    }\n",
       "\n",
       "    .dataframe thead th {\n",
       "        text-align: right;\n",
       "    }\n",
       "</style>\n",
       "<table border=\"1\" class=\"dataframe\">\n",
       "  <thead>\n",
       "    <tr style=\"text-align: right;\">\n",
       "      <th></th>\n",
       "      <th>name</th>\n",
       "      <th>address</th>\n",
       "      <th>text</th>\n",
       "      <th>boo</th>\n",
       "      <th>date</th>\n",
       "      <th>phone</th>\n",
       "      <th>ssn</th>\n",
       "    </tr>\n",
       "  </thead>\n",
       "  <tbody>\n",
       "    <tr>\n",
       "      <th>0</th>\n",
       "      <td>William Hendricks</td>\n",
       "      <td>85529 Gregory Isle Suite 504\\nNathanmouth, MT ...</td>\n",
       "      <td>Three speak full about around in development. ...</td>\n",
       "      <td>1</td>\n",
       "      <td>1983-12-11 17:39:57</td>\n",
       "      <td>(441)725-6346</td>\n",
       "      <td>207-24-6696</td>\n",
       "    </tr>\n",
       "    <tr>\n",
       "      <th>1</th>\n",
       "      <td>Erika Moore</td>\n",
       "      <td>885 Nathaniel Drives\\nEast Tanyamouth, MN 79262</td>\n",
       "      <td>Much admit similar already personal shoulder l...</td>\n",
       "      <td>0</td>\n",
       "      <td>2001-09-25 23:26:43</td>\n",
       "      <td>384.840.0153x37173</td>\n",
       "      <td>492-56-8778</td>\n",
       "    </tr>\n",
       "    <tr>\n",
       "      <th>2</th>\n",
       "      <td>Patricia Johnson MD</td>\n",
       "      <td>USNV Wilson\\nFPO AE 04817</td>\n",
       "      <td>Join reflect suffer Democrat again capital. Va...</td>\n",
       "      <td>0</td>\n",
       "      <td>2005-08-03 09:23:48</td>\n",
       "      <td>001-278-086-2522x71616</td>\n",
       "      <td>749-47-5652</td>\n",
       "    </tr>\n",
       "    <tr>\n",
       "      <th>3</th>\n",
       "      <td>Brenda Davis</td>\n",
       "      <td>2653 Christopher Spring\\nNew Jessicaberg, VT 2...</td>\n",
       "      <td>Perform day eat someone off fall. Everything s...</td>\n",
       "      <td>1</td>\n",
       "      <td>1978-02-16 11:26:32</td>\n",
       "      <td>265-964-5816x333</td>\n",
       "      <td>390-35-4995</td>\n",
       "    </tr>\n",
       "    <tr>\n",
       "      <th>4</th>\n",
       "      <td>Stacey Nelson</td>\n",
       "      <td>4639 Harrington Locks Suite 909\\nKanehaven, MT...</td>\n",
       "      <td>Very support bit quickly section less state to...</td>\n",
       "      <td>0</td>\n",
       "      <td>2016-10-03 21:32:54</td>\n",
       "      <td>(450)687-7726x10575</td>\n",
       "      <td>638-45-7084</td>\n",
       "    </tr>\n",
       "  </tbody>\n",
       "</table>\n",
       "</div>"
      ],
      "text/plain": [
       "                  name                                            address  \\\n",
       "0    William Hendricks  85529 Gregory Isle Suite 504\\nNathanmouth, MT ...   \n",
       "1          Erika Moore    885 Nathaniel Drives\\nEast Tanyamouth, MN 79262   \n",
       "2  Patricia Johnson MD                          USNV Wilson\\nFPO AE 04817   \n",
       "3         Brenda Davis  2653 Christopher Spring\\nNew Jessicaberg, VT 2...   \n",
       "4        Stacey Nelson  4639 Harrington Locks Suite 909\\nKanehaven, MT...   \n",
       "\n",
       "                                                text boo                date  \\\n",
       "0  Three speak full about around in development. ...   1 1983-12-11 17:39:57   \n",
       "1  Much admit similar already personal shoulder l...   0 2001-09-25 23:26:43   \n",
       "2  Join reflect suffer Democrat again capital. Va...   0 2005-08-03 09:23:48   \n",
       "3  Perform day eat someone off fall. Everything s...   1 1978-02-16 11:26:32   \n",
       "4  Very support bit quickly section less state to...   0 2016-10-03 21:32:54   \n",
       "\n",
       "                    phone          ssn  \n",
       "0           (441)725-6346  207-24-6696  \n",
       "1      384.840.0153x37173  492-56-8778  \n",
       "2  001-278-086-2522x71616  749-47-5652  \n",
       "3        265-964-5816x333  390-35-4995  \n",
       "4     (450)687-7726x10575  638-45-7084  "
      ]
     },
     "execution_count": 197,
     "metadata": {},
     "output_type": "execute_result"
    }
   ],
   "source": [
    "#check output looks reasonable\n",
    "labeled.head()"
   ]
  },
  {
   "cell_type": "markdown",
   "metadata": {},
   "source": [
    "## Get spacy loaded "
   ]
  },
  {
   "cell_type": "code",
   "execution_count": 20,
   "metadata": {},
   "outputs": [],
   "source": [
    "import spacy\n",
    "nlp=spacy.load('en')\n",
    "\n",
    "#nlp = spacy.load(\"en_core_web_sm\")"
   ]
  },
  {
   "cell_type": "code",
   "execution_count": 21,
   "metadata": {},
   "outputs": [
    {
     "name": "stdout",
     "output_type": "stream",
     "text": [
      "Apple 0 5 ORG\n",
      "U.K. 27 31 GPE\n",
      "$1 billion 44 54 MONEY\n"
     ]
    }
   ],
   "source": [
    "#check spacy is working\n",
    "nlp=spacy.load('en')\n",
    "\n",
    "#nlp = spacy.load(\"en_core_web_sm\")\n",
    "doc = nlp(\"Apple is looking at buying U.K. startup for $1 billion\")\n",
    "\n",
    "for ent in doc.ents:\n",
    "    print(ent.text, ent.start_char, ent.end_char, ent.label_)"
   ]
  },
  {
   "cell_type": "markdown",
   "metadata": {},
   "source": [
    "## Get column types"
   ]
  },
  {
   "cell_type": "code",
   "execution_count": 216,
   "metadata": {},
   "outputs": [
    {
     "data": {
      "text/plain": [
       "{dtype('<M8[ns]'): Index(['date'], dtype='object'),\n",
       " dtype('O'): Index(['name', 'address', 'text', 'boo', 'phone', 'ssn'], dtype='object')}"
      ]
     },
     "execution_count": 216,
     "metadata": {},
     "output_type": "execute_result"
    }
   ],
   "source": [
    "g = labeled.columns.to_series().groupby(labeled.dtypes).groups\n",
    "\n",
    "g"
   ]
  },
  {
   "cell_type": "code",
   "execution_count": 219,
   "metadata": {},
   "outputs": [
    {
     "data": {
      "text/plain": [
       "Index(['name', 'address', 'text', 'boo', 'phone', 'ssn'], dtype='object')"
      ]
     },
     "execution_count": 219,
     "metadata": {},
     "output_type": "execute_result"
    }
   ],
   "source": [
    "#del labeled['date']\n",
    "labeled.columns"
   ]
  },
  {
   "cell_type": "code",
   "execution_count": 220,
   "metadata": {},
   "outputs": [
    {
     "data": {
      "text/plain": [
       "name       False\n",
       "address    False\n",
       "text       False\n",
       "boo         True\n",
       "phone      False\n",
       "ssn        False\n",
       "dtype: bool"
      ]
     },
     "execution_count": 220,
     "metadata": {},
     "output_type": "execute_result"
    }
   ],
   "source": [
    "#Find only numeric columns\n",
    "labeled.apply(lambda s: pd.to_numeric(s, errors='coerce').notnull().all())"
   ]
  },
  {
   "cell_type": "code",
   "execution_count": 231,
   "metadata": {},
   "outputs": [
    {
     "ename": "ValueError",
     "evalue": "The truth value of a DataFrame is ambiguous. Use a.empty, a.bool(), a.item(), a.any() or a.all().",
     "output_type": "error",
     "traceback": [
      "\u001b[0;31m---------------------------------------------------------------------------\u001b[0m",
      "\u001b[0;31mValueError\u001b[0m                                Traceback (most recent call last)",
      "\u001b[0;32m<ipython-input-231-254bf0cb8f80>\u001b[0m in \u001b[0;36m<module>\u001b[0;34m\u001b[0m\n\u001b[1;32m      1\u001b[0m \u001b[0mcount\u001b[0m\u001b[0;34m=\u001b[0m\u001b[0;36m0\u001b[0m\u001b[0;34m\u001b[0m\u001b[0;34m\u001b[0m\u001b[0m\n\u001b[0;32m----> 2\u001b[0;31m \u001b[0;32mif\u001b[0m \u001b[0mlabeled\u001b[0m\u001b[0;34m[\u001b[0m\u001b[0mlabeled\u001b[0m\u001b[0;34m[\u001b[0m\u001b[0;34m'ssn'\u001b[0m\u001b[0;34m]\u001b[0m\u001b[0;34m.\u001b[0m\u001b[0mstr\u001b[0m\u001b[0;34m.\u001b[0m\u001b[0mmatch\u001b[0m\u001b[0;34m(\u001b[0m\u001b[0;34m'^(\\d{3}-?\\d{2}-?\\d{4}|XXX-XX-XXXX)$'\u001b[0m\u001b[0;34m)\u001b[0m\u001b[0;34m==\u001b[0m \u001b[0;32mTrue\u001b[0m\u001b[0;34m]\u001b[0m\u001b[0;34m:\u001b[0m\u001b[0;34m\u001b[0m\u001b[0;34m\u001b[0m\u001b[0m\n\u001b[0m\u001b[1;32m      3\u001b[0m     \u001b[0mcount\u001b[0m\u001b[0;34m+=\u001b[0m\u001b[0;36m1\u001b[0m\u001b[0;34m\u001b[0m\u001b[0;34m\u001b[0m\u001b[0m\n\u001b[1;32m      4\u001b[0m \u001b[0;34m\u001b[0m\u001b[0m\n\u001b[1;32m      5\u001b[0m \u001b[0mprint\u001b[0m\u001b[0;34m(\u001b[0m\u001b[0mcount\u001b[0m\u001b[0;34m)\u001b[0m\u001b[0;34m\u001b[0m\u001b[0;34m\u001b[0m\u001b[0m\n",
      "\u001b[0;32m~/opt/anaconda3/lib/python3.7/site-packages/pandas/core/generic.py\u001b[0m in \u001b[0;36m__nonzero__\u001b[0;34m(self)\u001b[0m\n\u001b[1;32m   1477\u001b[0m     \u001b[0;32mdef\u001b[0m \u001b[0m__nonzero__\u001b[0m\u001b[0;34m(\u001b[0m\u001b[0mself\u001b[0m\u001b[0;34m)\u001b[0m\u001b[0;34m:\u001b[0m\u001b[0;34m\u001b[0m\u001b[0;34m\u001b[0m\u001b[0m\n\u001b[1;32m   1478\u001b[0m         raise ValueError(\n\u001b[0;32m-> 1479\u001b[0;31m             \u001b[0;34mf\"The truth value of a {type(self).__name__} is ambiguous. \"\u001b[0m\u001b[0;34m\u001b[0m\u001b[0;34m\u001b[0m\u001b[0m\n\u001b[0m\u001b[1;32m   1480\u001b[0m             \u001b[0;34m\"Use a.empty, a.bool(), a.item(), a.any() or a.all().\"\u001b[0m\u001b[0;34m\u001b[0m\u001b[0;34m\u001b[0m\u001b[0m\n\u001b[1;32m   1481\u001b[0m         )\n",
      "\u001b[0;31mValueError\u001b[0m: The truth value of a DataFrame is ambiguous. Use a.empty, a.bool(), a.item(), a.any() or a.all()."
     ]
    }
   ],
   "source": [
    "count=0\n",
    "if labeled[labeled['ssn'].str.match('^(\\d{3}-?\\d{2}-?\\d{4}|XXX-XX-XXXX)$')== True]:\n",
    "    count+=1\n",
    "\n",
    "print(count)    "
   ]
  },
  {
   "cell_type": "code",
   "execution_count": 227,
   "metadata": {
    "scrolled": true
   },
   "outputs": [
    {
     "ename": "AttributeError",
     "evalue": "'RangeIndex' object has no attribute 'levels'",
     "output_type": "error",
     "traceback": [
      "\u001b[0;31m---------------------------------------------------------------------------\u001b[0m",
      "\u001b[0;31mAttributeError\u001b[0m                            Traceback (most recent call last)",
      "\u001b[0;32m<ipython-input-227-9dc55e3cf25c>\u001b[0m in \u001b[0;36m<module>\u001b[0;34m\u001b[0m\n\u001b[1;32m      2\u001b[0m \u001b[0;31m#labeled['ssn'].count(r'(^F.*)').sum()\u001b[0m\u001b[0;34m\u001b[0m\u001b[0;34m\u001b[0m\u001b[0;34m\u001b[0m\u001b[0m\n\u001b[1;32m      3\u001b[0m \u001b[0;31m#labeled.apply(lambda s: pd.to_numeric(s, errors='coerce').notnull().all()) == True\u001b[0m\u001b[0;34m\u001b[0m\u001b[0;34m\u001b[0m\u001b[0;34m\u001b[0m\u001b[0m\n\u001b[0;32m----> 4\u001b[0;31m \u001b[0mlabeled\u001b[0m\u001b[0;34m[\u001b[0m\u001b[0mlabeled\u001b[0m\u001b[0;34m[\u001b[0m\u001b[0;34m'ssn'\u001b[0m\u001b[0;34m]\u001b[0m\u001b[0;34m.\u001b[0m\u001b[0mstr\u001b[0m\u001b[0;34m.\u001b[0m\u001b[0mmatch\u001b[0m\u001b[0;34m(\u001b[0m\u001b[0;34m'^(\\d{3}-?\\d{2}-?\\d{4}|XXX-XX-XXXX)$'\u001b[0m\u001b[0;34m)\u001b[0m\u001b[0;34m.\u001b[0m\u001b[0mcount\u001b[0m\u001b[0;34m]\u001b[0m\u001b[0;34m\u001b[0m\u001b[0;34m\u001b[0m\u001b[0m\n\u001b[0m\u001b[1;32m      5\u001b[0m \u001b[0;31m#\u001b[0m\u001b[0;34m\u001b[0m\u001b[0;34m\u001b[0m\u001b[0;34m\u001b[0m\u001b[0m\n",
      "\u001b[0;32m~/opt/anaconda3/lib/python3.7/site-packages/pandas/core/frame.py\u001b[0m in \u001b[0;36m__getitem__\u001b[0;34m(self, key)\u001b[0m\n\u001b[1;32m   2767\u001b[0m     \u001b[0;32mdef\u001b[0m \u001b[0m__getitem__\u001b[0m\u001b[0;34m(\u001b[0m\u001b[0mself\u001b[0m\u001b[0;34m,\u001b[0m \u001b[0mkey\u001b[0m\u001b[0;34m)\u001b[0m\u001b[0;34m:\u001b[0m\u001b[0;34m\u001b[0m\u001b[0;34m\u001b[0m\u001b[0m\n\u001b[1;32m   2768\u001b[0m         \u001b[0mkey\u001b[0m \u001b[0;34m=\u001b[0m \u001b[0mlib\u001b[0m\u001b[0;34m.\u001b[0m\u001b[0mitem_from_zerodim\u001b[0m\u001b[0;34m(\u001b[0m\u001b[0mkey\u001b[0m\u001b[0;34m)\u001b[0m\u001b[0;34m\u001b[0m\u001b[0;34m\u001b[0m\u001b[0m\n\u001b[0;32m-> 2769\u001b[0;31m         \u001b[0mkey\u001b[0m \u001b[0;34m=\u001b[0m \u001b[0mcom\u001b[0m\u001b[0;34m.\u001b[0m\u001b[0mapply_if_callable\u001b[0m\u001b[0;34m(\u001b[0m\u001b[0mkey\u001b[0m\u001b[0;34m,\u001b[0m \u001b[0mself\u001b[0m\u001b[0;34m)\u001b[0m\u001b[0;34m\u001b[0m\u001b[0;34m\u001b[0m\u001b[0m\n\u001b[0m\u001b[1;32m   2770\u001b[0m \u001b[0;34m\u001b[0m\u001b[0m\n\u001b[1;32m   2771\u001b[0m         \u001b[0;32mif\u001b[0m \u001b[0mis_hashable\u001b[0m\u001b[0;34m(\u001b[0m\u001b[0mkey\u001b[0m\u001b[0;34m)\u001b[0m\u001b[0;34m:\u001b[0m\u001b[0;34m\u001b[0m\u001b[0;34m\u001b[0m\u001b[0m\n",
      "\u001b[0;32m~/opt/anaconda3/lib/python3.7/site-packages/pandas/core/common.py\u001b[0m in \u001b[0;36mapply_if_callable\u001b[0;34m(maybe_callable, obj, **kwargs)\u001b[0m\n\u001b[1;32m    346\u001b[0m \u001b[0;34m\u001b[0m\u001b[0m\n\u001b[1;32m    347\u001b[0m     \u001b[0;32mif\u001b[0m \u001b[0mcallable\u001b[0m\u001b[0;34m(\u001b[0m\u001b[0mmaybe_callable\u001b[0m\u001b[0;34m)\u001b[0m\u001b[0;34m:\u001b[0m\u001b[0;34m\u001b[0m\u001b[0;34m\u001b[0m\u001b[0m\n\u001b[0;32m--> 348\u001b[0;31m         \u001b[0;32mreturn\u001b[0m \u001b[0mmaybe_callable\u001b[0m\u001b[0;34m(\u001b[0m\u001b[0mobj\u001b[0m\u001b[0;34m,\u001b[0m \u001b[0;34m**\u001b[0m\u001b[0mkwargs\u001b[0m\u001b[0;34m)\u001b[0m\u001b[0;34m\u001b[0m\u001b[0;34m\u001b[0m\u001b[0m\n\u001b[0m\u001b[1;32m    349\u001b[0m \u001b[0;34m\u001b[0m\u001b[0m\n\u001b[1;32m    350\u001b[0m     \u001b[0;32mreturn\u001b[0m \u001b[0mmaybe_callable\u001b[0m\u001b[0;34m\u001b[0m\u001b[0;34m\u001b[0m\u001b[0m\n",
      "\u001b[0;32m~/opt/anaconda3/lib/python3.7/site-packages/pandas/core/series.py\u001b[0m in \u001b[0;36mcount\u001b[0;34m(self, level)\u001b[0m\n\u001b[1;32m   1720\u001b[0m             \u001b[0mlevel\u001b[0m \u001b[0;34m=\u001b[0m \u001b[0mself\u001b[0m\u001b[0;34m.\u001b[0m\u001b[0mindex\u001b[0m\u001b[0;34m.\u001b[0m\u001b[0m_get_level_number\u001b[0m\u001b[0;34m(\u001b[0m\u001b[0mlevel\u001b[0m\u001b[0;34m)\u001b[0m\u001b[0;34m\u001b[0m\u001b[0;34m\u001b[0m\u001b[0m\n\u001b[1;32m   1721\u001b[0m \u001b[0;34m\u001b[0m\u001b[0m\n\u001b[0;32m-> 1722\u001b[0;31m         \u001b[0mlev\u001b[0m \u001b[0;34m=\u001b[0m \u001b[0mself\u001b[0m\u001b[0;34m.\u001b[0m\u001b[0mindex\u001b[0m\u001b[0;34m.\u001b[0m\u001b[0mlevels\u001b[0m\u001b[0;34m[\u001b[0m\u001b[0mlevel\u001b[0m\u001b[0;34m]\u001b[0m\u001b[0;34m\u001b[0m\u001b[0;34m\u001b[0m\u001b[0m\n\u001b[0m\u001b[1;32m   1723\u001b[0m         \u001b[0mlevel_codes\u001b[0m \u001b[0;34m=\u001b[0m \u001b[0mnp\u001b[0m\u001b[0;34m.\u001b[0m\u001b[0marray\u001b[0m\u001b[0;34m(\u001b[0m\u001b[0mself\u001b[0m\u001b[0;34m.\u001b[0m\u001b[0mindex\u001b[0m\u001b[0;34m.\u001b[0m\u001b[0mcodes\u001b[0m\u001b[0;34m[\u001b[0m\u001b[0mlevel\u001b[0m\u001b[0;34m]\u001b[0m\u001b[0;34m,\u001b[0m \u001b[0msubok\u001b[0m\u001b[0;34m=\u001b[0m\u001b[0;32mFalse\u001b[0m\u001b[0;34m,\u001b[0m \u001b[0mcopy\u001b[0m\u001b[0;34m=\u001b[0m\u001b[0;32mTrue\u001b[0m\u001b[0;34m)\u001b[0m\u001b[0;34m\u001b[0m\u001b[0;34m\u001b[0m\u001b[0m\n\u001b[1;32m   1724\u001b[0m \u001b[0;34m\u001b[0m\u001b[0m\n",
      "\u001b[0;31mAttributeError\u001b[0m: 'RangeIndex' object has no attribute 'levels'"
     ]
    }
   ],
   "source": [
    "#look for ssn\n",
    "#labeled['ssn'].count(r'(^F.*)').sum()\n",
    "#labeled.apply(lambda s: pd.to_numeric(s, errors='coerce').notnull().all()) == True\n",
    "labeled[labeled['ssn'].str.match('^(\\d{3}-?\\d{2}-?\\d{4}|XXX-XX-XXXX)$').count]\n",
    "#"
   ]
  },
  {
   "cell_type": "markdown",
   "metadata": {},
   "source": [
    "## Now see Spacy detects columns correctly"
   ]
  },
  {
   "cell_type": "code",
   "execution_count": 198,
   "metadata": {},
   "outputs": [],
   "source": [
    "#data is in labeled \n",
    "#how many rows in labeled\n",
    "rows=len(labeled.index)\n",
    "cols=len(labeled.columns)\n"
   ]
  },
  {
   "cell_type": "code",
   "execution_count": 199,
   "metadata": {},
   "outputs": [
    {
     "data": {
      "text/plain": [
       "'Patricia Johnson MD'"
      ]
     },
     "execution_count": 199,
     "metadata": {},
     "output_type": "execute_result"
    }
   ],
   "source": [
    "labeled.iloc[2, 0]"
   ]
  },
  {
   "cell_type": "code",
   "execution_count": 206,
   "metadata": {},
   "outputs": [],
   "source": [
    "\n",
    "import re\n",
    "\n",
    "\n",
    "     \n",
    "    \n",
    "def printme(j, guesses,finger):\n",
    "    print(\"column number \",j)\n",
    "    fingerprint=guesses.groupby('first').size()\n",
    "    #print(fingerprint)\n",
    "    #fingerprint=str(fingerprint)\n",
    "    #print(fingerprint['first'].extract(r'.*PERSON.*'))\n",
    "    #print(\"and person found\")\n",
    "    #print(fingerprint.astype(str).str.extract(r'.*PERSON(.*\\d*\\n)'))\n",
    "    try:\n",
    "        person=fingerprint['PERSON']\n",
    "        number=fingerprint['CARDINAL']\n",
    "        location=fingerprint['GPE']\n",
    "        company=fingerprint['ORG']\n",
    "        date=fingerprint['DATE']\n",
    "        finger = finger.append({'column':j,'person' : person ,'number':number,'location':location,'company':company,'date':date,'phone':0,'ssn':0} , ignore_index=True)\n",
    "   \n",
    "        #print(person)\n",
    "        #raise ErrorType(\"Error message\")\n",
    "    \n",
    "    #Code that may raise an error\n",
    "    except KeyError as e:#as e:IndexError\n",
    "        print(\"key error\")\n",
    "    \n",
    "    #print(fingerprint.astype(str).str.count(r'.*PERSON.*'))\n",
    "    #print(fingerprint.count(r'.*PERSON.*'))    \n",
    "    #x = re.search(\".*PERSON.*\", fingerprint)\n",
    "    #print(x)\n",
    "    #print(guesses['first'].value_counts())\n",
    "    return finger"
   ]
  },
  {
   "cell_type": "code",
   "execution_count": 169,
   "metadata": {},
   "outputs": [
    {
     "data": {
      "text/plain": [
       "first\n",
       "PERSON    96\n",
       "dtype: int64"
      ]
     },
     "execution_count": 169,
     "metadata": {},
     "output_type": "execute_result"
    }
   ],
   "source": [
    "fingerprint=guesses.groupby('first').size()\n",
    "fingerprint"
   ]
  },
  {
   "cell_type": "code",
   "execution_count": 175,
   "metadata": {},
   "outputs": [
    {
     "data": {
      "text/plain": [
       "Index(['PERSON'], dtype='object', name='first')"
      ]
     },
     "execution_count": 175,
     "metadata": {},
     "output_type": "execute_result"
    }
   ],
   "source": [
    "fingerprint.index"
   ]
  },
  {
   "cell_type": "code",
   "execution_count": 170,
   "metadata": {},
   "outputs": [
    {
     "name": "stdout",
     "output_type": "stream",
     "text": [
      "<class 'pandas.core.series.Series'>\n"
     ]
    }
   ],
   "source": [
    "print(type(fingerprint))"
   ]
  },
  {
   "cell_type": "code",
   "execution_count": 174,
   "metadata": {},
   "outputs": [
    {
     "data": {
      "text/plain": [
       "96"
      ]
     },
     "execution_count": 174,
     "metadata": {},
     "output_type": "execute_result"
    }
   ],
   "source": [
    "#fingerprint[0]\n",
    "fingerprint['PERSON']"
   ]
  },
  {
   "cell_type": "code",
   "execution_count": 207,
   "metadata": {},
   "outputs": [
    {
     "name": "stdout",
     "output_type": "stream",
     "text": [
      "column number  1\n",
      "key error\n",
      "column number  2\n",
      "column number  3\n",
      "column number  4\n",
      "key error\n",
      "column number  5\n",
      "key error\n",
      "column number  6\n",
      "key error\n",
      "column number  7\n",
      "key error\n"
     ]
    }
   ],
   "source": [
    "#guess first column\n",
    "\n",
    "finger = pd.DataFrame(columns=['column','person', 'number','location','company','date','phone','ssn'])\n",
    "\n",
    "\n",
    "guesses= pd.DataFrame()\n",
    "\n",
    "i = 0\n",
    "j=0\n",
    "while j< cols:\n",
    "    while i < rows:\n",
    "        #print(labeled.iloc[i, j])\n",
    "        col1 = nlp(str(labeled.iloc[i, j]))#read in the row \n",
    "        i += 1\n",
    "        for ent in col1.ents:#extract entities using spacy\n",
    "            first=ent.label_\n",
    "        #print(ent.label_)  \n",
    "            new_row={'first':first}\n",
    "            guesses = guesses.append(new_row, ignore_index=True)\n",
    "    j += 1\n",
    "    i = 0\n",
    "\n",
    "    #print(j)\n",
    "    printme(j,guesses,finger)\n",
    "\n",
    "    guesses=pd.DataFrame()\n",
    "    #for ent in col2.ents:#extract entities using spacy\n",
    "        #print(ent.text, ent.start_char, ent.end_char, ent.label_)\n",
    "        #second=ent.label_\n",
    "        #print(ent.label_,col2)  \n",
    "        #new_row={'first':first,'second':second}\n",
    "        #guesses = guesses.append(new_row, ignore_index=True)\n",
    " \n",
    "\n",
    "\n",
    "\n"
   ]
  },
  {
   "cell_type": "markdown",
   "metadata": {},
   "source": [
    "now extract from this size the values we want"
   ]
  },
  {
   "cell_type": "raw",
   "metadata": {},
   "source": [
    "finger"
   ]
  },
  {
   "cell_type": "code",
   "execution_count": null,
   "metadata": {},
   "outputs": [],
   "source": [
    "guesses['first'].value_counts(bins=4)\n"
   ]
  },
  {
   "cell_type": "code",
   "execution_count": 68,
   "metadata": {},
   "outputs": [
    {
     "data": {
      "text/plain": [
       "second\n",
       "CARDINAL    101\n",
       "DATE         41\n",
       "GPE          43\n",
       "ORG          46\n",
       "PERSON       38\n",
       "dtype: int64"
      ]
     },
     "execution_count": 68,
     "metadata": {},
     "output_type": "execute_result"
    }
   ],
   "source": [
    "g = guesses.groupby('second')\n",
    "size = g.size()\n",
    "size[size > 20]"
   ]
  },
  {
   "cell_type": "code",
   "execution_count": null,
   "metadata": {},
   "outputs": [],
   "source": []
  }
 ],
 "metadata": {
  "kernelspec": {
   "display_name": "Python 3",
   "language": "python",
   "name": "python3"
  },
  "language_info": {
   "codemirror_mode": {
    "name": "ipython",
    "version": 3
   },
   "file_extension": ".py",
   "mimetype": "text/x-python",
   "name": "python",
   "nbconvert_exporter": "python",
   "pygments_lexer": "ipython3",
   "version": "3.7.6"
  }
 },
 "nbformat": 4,
 "nbformat_minor": 4
}
